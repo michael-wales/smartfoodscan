{
 "cells": [
  {
   "cell_type": "code",
   "execution_count": 2,
   "metadata": {},
   "outputs": [],
   "source": [
    "import pandas as pd\n",
    "import requests\n",
    "import gzip\n",
    "import shutil\n",
    "from pathlib import Path\n",
    "import csv"
   ]
  },
  {
   "cell_type": "code",
   "execution_count": 14,
   "metadata": {},
   "outputs": [],
   "source": [
    "df = pd.read_csv('../data/processed/openfoodfacts_processed_10_000.csv')"
   ]
  },
  {
   "cell_type": "code",
   "execution_count": 15,
   "metadata": {},
   "outputs": [
    {
     "data": {
      "text/plain": [
       "code                                                     7736\n",
       "url                                                      7736\n",
       "product_name                                             7123\n",
       "quantity                                                 1651\n",
       "brands                                                   2435\n",
       "brands_tags                                              2072\n",
       "categories                                               5586\n",
       "categories_tags                                          4894\n",
       "categories_en                                            4894\n",
       "labels                                                   5732\n",
       "labels_tags                                              5246\n",
       "labels_en                                                5246\n",
       "countries                                                 958\n",
       "countries_tags                                            614\n",
       "countries_en                                              614\n",
       "ingredients_text                                         7481\n",
       "ingredients_tags                                         6971\n",
       "ingredients_analysis_tags                                  32\n",
       "additives_n                                                19\n",
       "food_groups                                                43\n",
       "food_groups_tags                                           43\n",
       "food_groups_en                                             43\n",
       "states                                                     68\n",
       "states_tags                                                68\n",
       "states_en                                                  68\n",
       "nutrient_levels_tags                                       64\n",
       "product_quantity                                          524\n",
       "main_category                                            2336\n",
       "main_category_en                                         2336\n",
       "image_url                                                7736\n",
       "image_small_url                                          7736\n",
       "image_ingredients_url                                    7736\n",
       "image_ingredients_small_url                              7736\n",
       "image_nutrition_url                                      7736\n",
       "image_nutrition_small_url                                7736\n",
       "energy-kcal_100g                                          811\n",
       "energy_100g                                              2211\n",
       "fat_100g                                                  684\n",
       "saturated-fat_100g                                        554\n",
       "carbohydrates_100g                                        857\n",
       "sugars_100g                                               703\n",
       "proteins_100g                                             510\n",
       "salt_100g                                                 795\n",
       "sodium_100g                                               802\n",
       "fruits-vegetables-nuts-estimate-from-ingredients_100g    2841\n",
       "nutrition-score-fr_100g                                    52\n",
       "nutriscore_score                                           52\n",
       "nutriscore_grade                                            5\n",
       "nova_group                                                  4\n",
       "dtype: int64"
      ]
     },
     "execution_count": 15,
     "metadata": {},
     "output_type": "execute_result"
    }
   ],
   "source": [
    "df.nunique()"
   ]
  },
  {
   "cell_type": "code",
   "execution_count": 29,
   "metadata": {},
   "outputs": [
    {
     "data": {
      "text/plain": [
       "nova_group\n",
       "1              433\n",
       "2               93\n",
       "3             1391\n",
       "4             5876\n",
       "Name: count, dtype: int64"
      ]
     },
     "execution_count": 29,
     "metadata": {},
     "output_type": "execute_result"
    }
   ],
   "source": [
    "df[['nova_group']].value_counts().sort_index()"
   ]
  },
  {
   "cell_type": "code",
   "execution_count": 19,
   "metadata": {},
   "outputs": [
    {
     "data": {
      "text/plain": [
       "nutriscore_grade\n",
       "a                    799\n",
       "b                    929\n",
       "c                   2392\n",
       "d                   2038\n",
       "e                   1635\n",
       "Name: count, dtype: int64"
      ]
     },
     "execution_count": 19,
     "metadata": {},
     "output_type": "execute_result"
    }
   ],
   "source": [
    "df[['nutriscore_grade']].value_counts().sort_index()"
   ]
  },
  {
   "cell_type": "code",
   "execution_count": 20,
   "metadata": {},
   "outputs": [
    {
     "data": {
      "text/plain": [
       "nutriscore_score\n",
       "-16                  20\n",
       "-15                   3\n",
       "-13                   4\n",
       "-11                  10\n",
       "-10                  15\n",
       "-9                   14\n",
       "-8                   25\n",
       "-7                   16\n",
       "-6                   27\n",
       "-5                   45\n",
       "-4                   64\n",
       "-3                   88\n",
       "-2                  143\n",
       "-1                  209\n",
       " 0                  280\n",
       " 1                  318\n",
       " 2                  447\n",
       " 3                  429\n",
       " 4                  453\n",
       " 5                  428\n",
       " 6                  326\n",
       " 7                  291\n",
       " 8                  240\n",
       " 9                  167\n",
       " 10                 175\n",
       " 11                 318\n",
       " 12                 262\n",
       " 13                 265\n",
       " 14                 303\n",
       " 15                 228\n",
       " 16                 215\n",
       " 17                 202\n",
       " 18                 208\n",
       " 19                 224\n",
       " 20                 179\n",
       " 21                 161\n",
       " 22                 147\n",
       " 23                  99\n",
       " 24                  95\n",
       " 25                  93\n",
       " 26                 100\n",
       " 27                  86\n",
       " 28                  70\n",
       " 29                 105\n",
       " 30                  49\n",
       " 31                  37\n",
       " 32                  26\n",
       " 33                  11\n",
       " 34                  24\n",
       " 35                  28\n",
       " 36                  18\n",
       " 37                   3\n",
       "Name: count, dtype: int64"
      ]
     },
     "execution_count": 20,
     "metadata": {},
     "output_type": "execute_result"
    }
   ],
   "source": [
    "df[['nutriscore_score']].value_counts().sort_index()"
   ]
  },
  {
   "cell_type": "code",
   "execution_count": 23,
   "metadata": {},
   "outputs": [
    {
     "data": {
      "text/html": [
       "<div>\n",
       "<style scoped>\n",
       "    .dataframe tbody tr th:only-of-type {\n",
       "        vertical-align: middle;\n",
       "    }\n",
       "\n",
       "    .dataframe tbody tr th {\n",
       "        vertical-align: top;\n",
       "    }\n",
       "\n",
       "    .dataframe thead th {\n",
       "        text-align: right;\n",
       "    }\n",
       "</style>\n",
       "<table border=\"1\" class=\"dataframe\">\n",
       "  <thead>\n",
       "    <tr style=\"text-align: right;\">\n",
       "      <th></th>\n",
       "      <th>product_name</th>\n",
       "      <th>nutriscore_grade</th>\n",
       "      <th>nutriscore_score</th>\n",
       "    </tr>\n",
       "  </thead>\n",
       "  <tbody>\n",
       "    <tr>\n",
       "      <th>0</th>\n",
       "      <td>Barre daily carotte</td>\n",
       "      <td>a</td>\n",
       "      <td>-1</td>\n",
       "    </tr>\n",
       "    <tr>\n",
       "      <th>1</th>\n",
       "      <td>Cold Brew Coffee</td>\n",
       "      <td>e</td>\n",
       "      <td>10</td>\n",
       "    </tr>\n",
       "    <tr>\n",
       "      <th>2</th>\n",
       "      <td>this is food happy banana</td>\n",
       "      <td>e</td>\n",
       "      <td>10</td>\n",
       "    </tr>\n",
       "    <tr>\n",
       "      <th>3</th>\n",
       "      <td>yfood  Crazy Coconut</td>\n",
       "      <td>e</td>\n",
       "      <td>10</td>\n",
       "    </tr>\n",
       "    <tr>\n",
       "      <th>4</th>\n",
       "      <td>Hot &amp; Savoury - Tomato &amp; Herb</td>\n",
       "      <td>c</td>\n",
       "      <td>10</td>\n",
       "    </tr>\n",
       "    <tr>\n",
       "      <th>...</th>\n",
       "      <td>...</td>\n",
       "      <td>...</td>\n",
       "      <td>...</td>\n",
       "    </tr>\n",
       "    <tr>\n",
       "      <th>95</th>\n",
       "      <td>chocapic</td>\n",
       "      <td>c</td>\n",
       "      <td>7</td>\n",
       "    </tr>\n",
       "    <tr>\n",
       "      <th>96</th>\n",
       "      <td>Renutryl Booster saveur Chocolat</td>\n",
       "      <td>d</td>\n",
       "      <td>9</td>\n",
       "    </tr>\n",
       "    <tr>\n",
       "      <th>97</th>\n",
       "      <td>Viva chocolat  25cl</td>\n",
       "      <td>d</td>\n",
       "      <td>7</td>\n",
       "    </tr>\n",
       "    <tr>\n",
       "      <th>98</th>\n",
       "      <td>NESTLE LION Céréales 750g</td>\n",
       "      <td>d</td>\n",
       "      <td>14</td>\n",
       "    </tr>\n",
       "    <tr>\n",
       "      <th>99</th>\n",
       "      <td>Fourrage cœur choco noisette 7 vitamines et fer</td>\n",
       "      <td>d</td>\n",
       "      <td>18</td>\n",
       "    </tr>\n",
       "  </tbody>\n",
       "</table>\n",
       "<p>100 rows × 3 columns</p>\n",
       "</div>"
      ],
      "text/plain": [
       "                                       product_name nutriscore_grade  \\\n",
       "0                               Barre daily carotte                a   \n",
       "1                                  Cold Brew Coffee                e   \n",
       "2                         this is food happy banana                e   \n",
       "3                              yfood  Crazy Coconut                e   \n",
       "4                     Hot & Savoury - Tomato & Herb                c   \n",
       "..                                              ...              ...   \n",
       "95                                         chocapic                c   \n",
       "96                 Renutryl Booster saveur Chocolat                d   \n",
       "97                              Viva chocolat  25cl                d   \n",
       "98                        NESTLE LION Céréales 750g                d   \n",
       "99  Fourrage cœur choco noisette 7 vitamines et fer                d   \n",
       "\n",
       "    nutriscore_score  \n",
       "0                 -1  \n",
       "1                 10  \n",
       "2                 10  \n",
       "3                 10  \n",
       "4                 10  \n",
       "..               ...  \n",
       "95                 7  \n",
       "96                 9  \n",
       "97                 7  \n",
       "98                14  \n",
       "99                18  \n",
       "\n",
       "[100 rows x 3 columns]"
      ]
     },
     "execution_count": 23,
     "metadata": {},
     "output_type": "execute_result"
    }
   ],
   "source": [
    "df[['product_name','nutriscore_grade', 'nutriscore_score']].head(100)"
   ]
  },
  {
   "cell_type": "code",
   "execution_count": 28,
   "metadata": {},
   "outputs": [
    {
     "data": {
      "text/plain": [
       "array([\"Aliments et boissons à base de végétaux, Aliments d'origine végétale, Snacks, Snacks sucrés, Barres, Compléments alimentaires, Compléments pour le Bodybuilding, Barres protéinées\",\n",
       "       'Getränke',\n",
       "       'Fertiggerichte, Trinkmahlzeit, en:Drink-meal, Beverages', ...,\n",
       "       'Plant-based foods and beverages, Beverages, Plant-based foods, Dairy substitutes, Milk substitutes, Plant-based beverages, Plant-based milk alternatives, Plant-based creams, Plant-based creams for cooking, Coconut milks and creams',\n",
       "       'Plant-based foods and beverages, Plant-based foods, Breakfasts, Cereals and potatoes, Cereals and their products, Breakfast cereals, Cereals with fruits, Extruded cereals, Cereal flakes with fruits',\n",
       "       'Snacks, Sweet snacks, Confectioneries, Fruit confectioneries, Candies, Liquorice candies'],\n",
       "      shape=(5586,), dtype=object)"
      ]
     },
     "execution_count": 28,
     "metadata": {},
     "output_type": "execute_result"
    }
   ],
   "source": [
    "df['categories'].unique()"
   ]
  },
  {
   "cell_type": "code",
   "execution_count": null,
   "metadata": {},
   "outputs": [],
   "source": []
  }
 ],
 "metadata": {
  "kernelspec": {
   "display_name": "smartfoodscan",
   "language": "python",
   "name": "python3"
  },
  "language_info": {
   "codemirror_mode": {
    "name": "ipython",
    "version": 3
   },
   "file_extension": ".py",
   "mimetype": "text/x-python",
   "name": "python",
   "nbconvert_exporter": "python",
   "pygments_lexer": "ipython3",
   "version": "3.10.6"
  }
 },
 "nbformat": 4,
 "nbformat_minor": 2
}
