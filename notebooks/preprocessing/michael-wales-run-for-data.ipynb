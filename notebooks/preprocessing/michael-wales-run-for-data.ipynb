{
 "cells": [
  {
   "cell_type": "code",
   "execution_count": 1,
   "metadata": {},
   "outputs": [],
   "source": [
    "import pandas as pd\n",
    "\n",
    "df = pd.read_parquet('../raw_data/filtered_df.parquet')"
   ]
  },
  {
   "cell_type": "code",
   "execution_count": 2,
   "metadata": {},
   "outputs": [],
   "source": [
    "df = df[df['nutriscore_grade'].isin(['a', 'b', 'c', 'd', 'e'])]"
   ]
  },
  {
   "cell_type": "code",
   "execution_count": 3,
   "metadata": {},
   "outputs": [],
   "source": [
    "df['y'] = df[\"nutriscore_score\"] + (df[\"nova_group\"] * 10)"
   ]
  },
  {
   "cell_type": "code",
   "execution_count": 4,
   "metadata": {},
   "outputs": [],
   "source": [
    "df = df.drop(columns=['labels_en'])\n",
    "df['text'] = (df['ingredients_text'] + ' ' + df['additives_en']).str.strip()\n",
    "df['text'] = df['text'].str.replace(r',([^ ])', r', \\1', regex=True) # only replace those commas without following spaces"
   ]
  },
  {
   "cell_type": "code",
   "execution_count": 5,
   "metadata": {},
   "outputs": [],
   "source": [
    "df = df.drop(columns=['ingredients_text', 'additives_en', 'nutriscore_score', 'nutriscore_grade', 'nova_group'])\n",
    "df['other_carbohydrates_100g'] = df['carbohydrates_100g'] - df['fiber_100g'] - df['sugars_100g']\n",
    "df['other_fat_100g'] = df['fat_100g'] - df['saturated-fat_100g'] - df['trans-fat_100g']\n",
    "df = df.drop(columns=['fat_100g', 'carbohydrates_100g'])"
   ]
  },
  {
   "cell_type": "code",
   "execution_count": 6,
   "metadata": {},
   "outputs": [],
   "source": [
    "import os\n",
    "\n",
    "save_dir = \"../shared_data\"\n",
    "os.makedirs(save_dir, exist_ok=True)\n",
    "\n",
    "df.to_parquet(os.path.join(save_dir, \"df.parquet\"))\n",
    "\n",
    "# If you want to save it here:\n",
    "from sklearn.model_selection import train_test_split\n",
    "\n",
    "X_train, X_test, y_train, y_test = train_test_split(df.drop(columns='y'), df.y, test_size=0.2, random_state=42)\n",
    "\n",
    "X_train.to_parquet(os.path.join(save_dir, \"X_train.parquet\"))\n",
    "X_test.to_parquet(os.path.join(save_dir, \"X_test.parquet\"))\n",
    "y_train.to_frame(name=\"y_train\").to_parquet(os.path.join(save_dir, \"y_train.parquet\"))\n",
    "y_test.to_frame(name=\"y_test\").to_parquet(os.path.join(save_dir, \"y_test.parquet\"))"
   ]
  }
 ],
 "metadata": {
  "kernelspec": {
   "display_name": "smartfoodscan",
   "language": "python",
   "name": "python3"
  },
  "language_info": {
   "codemirror_mode": {
    "name": "ipython",
    "version": 3
   },
   "file_extension": ".py",
   "mimetype": "text/x-python",
   "name": "python",
   "nbconvert_exporter": "python",
   "pygments_lexer": "ipython3",
   "version": "3.10.6"
  }
 },
 "nbformat": 4,
 "nbformat_minor": 2
}
