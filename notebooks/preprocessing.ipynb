{
 "cells": [
  {
   "cell_type": "markdown",
   "metadata": {},
   "source": [
    "## Imports"
   ]
  },
  {
   "cell_type": "code",
   "execution_count": 1,
   "metadata": {},
   "outputs": [],
   "source": [
    "# Canonical\n",
    "import pandas as pd\n",
    "\n",
    "# HTTP\n",
    "import requests\n",
    "\n",
    "# File utilities\n",
    "import gzip\n",
    "import shutil\n",
    "from pathlib import Path\n",
    "import csv\n",
    "\n",
    "# Math\n",
    "import math"
   ]
  },
  {
   "cell_type": "markdown",
   "metadata": {
    "vscode": {
     "languageId": "plaintext"
    }
   },
   "source": [
    "# Download raw data"
   ]
  },
  {
   "cell_type": "code",
   "execution_count": 2,
   "metadata": {},
   "outputs": [],
   "source": [
    "raw_data_dir = Path(\"../data/raw\")\n",
    "raw_data_dir.mkdir(parents=True, exist_ok=True)\n",
    "\n",
    "if any(raw_data_dir.iterdir()):\n",
    "    pass\n",
    "\n",
    "else:\n",
    "\n",
    "    url = \"https://static.openfoodfacts.org/data/en.openfoodfacts.org.products.csv.gz\"\n",
    "    gz_file_path = raw_data_dir / \"openfoodfacts_products.csv.gz\"\n",
    "    csv_file_path = raw_data_dir / \"openfoodfacts_products.csv\"\n",
    "\n",
    "    print(\"Downloading OpenFoodFacts CSV file...\")\n",
    "    response = requests.get(url, stream=True)\n",
    "    response.raise_for_status()\n",
    "\n",
    "    with open(gz_file_path, \"wb\") as f:\n",
    "        for chunk in response.iter_content(chunk_size=8192):\n",
    "            f.write(chunk)\n",
    "\n",
    "    print(\"Download complete. Extracting...\")\n",
    "\n",
    "    with gzip.open(gz_file_path, \"rb\") as f_in:\n",
    "        with open(csv_file_path, \"wb\") as f_out:\n",
    "            shutil.copyfileobj(f_in, f_out)\n",
    "\n",
    "    gz_file_path.unlink()\n",
    "\n",
    "    print(f\"Extraction complete: {csv_file_path}\")"
   ]
  },
  {
   "cell_type": "markdown",
   "metadata": {},
   "source": [
    "## Flag to avoid preprocessing twice"
   ]
  },
  {
   "cell_type": "code",
   "execution_count": 3,
   "metadata": {},
   "outputs": [],
   "source": [
    "processed_data_dir = Path(\"../data/processed\")\n",
    "processed_file = processed_data_dir / \"openfoodfacts_processed.csv\"\n",
    "\n",
    "processed_data_dir.mkdir(parents=True, exist_ok=True)\n",
    "\n",
    "if any(processed_data_dir.iterdir()):\n",
    "    df = pd.read_csv(processed_file)\n",
    "    preprocessing = False\n",
    "\n",
    "else:\n",
    "    preprocessing = True"
   ]
  },
  {
   "cell_type": "markdown",
   "metadata": {},
   "source": [
    "# Exploration"
   ]
  },
  {
   "cell_type": "markdown",
   "metadata": {},
   "source": [
    "## Explore headings"
   ]
  },
  {
   "cell_type": "code",
   "execution_count": 4,
   "metadata": {},
   "outputs": [
    {
     "name": "stdout",
     "output_type": "stream",
     "text": [
      "['code', 'url', 'creator', 'created_t', 'created_datetime', 'last_modified_t', 'last_modified_datetime', 'last_modified_by', 'last_updated_t', 'last_updated_datetime', 'product_name', 'abbreviated_product_name', 'generic_name', 'quantity', 'packaging', 'packaging_tags', 'packaging_en', 'packaging_text', 'brands', 'brands_tags', 'categories', 'categories_tags', 'categories_en', 'origins', 'origins_tags', 'origins_en', 'manufacturing_places', 'manufacturing_places_tags', 'labels', 'labels_tags', 'labels_en', 'emb_codes', 'emb_codes_tags', 'first_packaging_code_geo', 'cities', 'cities_tags', 'purchase_places', 'stores', 'countries', 'countries_tags', 'countries_en', 'ingredients_text', 'ingredients_tags', 'ingredients_analysis_tags', 'allergens', 'allergens_en', 'traces', 'traces_tags', 'traces_en', 'serving_size', 'serving_quantity', 'no_nutrition_data', 'additives_n', 'additives', 'additives_tags', 'additives_en', 'nutriscore_score', 'nutriscore_grade', 'nova_group', 'pnns_groups_1', 'pnns_groups_2', 'food_groups', 'food_groups_tags', 'food_groups_en', 'states', 'states_tags', 'states_en', 'brand_owner', 'environmental_score_score', 'environmental_score_grade', 'nutrient_levels_tags', 'product_quantity', 'owner', 'data_quality_errors_tags', 'unique_scans_n', 'popularity_tags', 'completeness', 'last_image_t', 'last_image_datetime', 'main_category', 'main_category_en', 'image_url', 'image_small_url', 'image_ingredients_url', 'image_ingredients_small_url', 'image_nutrition_url', 'image_nutrition_small_url', 'energy-kj_100g', 'energy-kcal_100g', 'energy_100g', 'energy-from-fat_100g', 'fat_100g', 'saturated-fat_100g', 'butyric-acid_100g', 'caproic-acid_100g', 'caprylic-acid_100g', 'capric-acid_100g', 'lauric-acid_100g', 'myristic-acid_100g', 'palmitic-acid_100g', 'stearic-acid_100g', 'arachidic-acid_100g', 'behenic-acid_100g', 'lignoceric-acid_100g', 'cerotic-acid_100g', 'montanic-acid_100g', 'melissic-acid_100g', 'unsaturated-fat_100g', 'monounsaturated-fat_100g', 'omega-9-fat_100g', 'polyunsaturated-fat_100g', 'omega-3-fat_100g', 'omega-6-fat_100g', 'alpha-linolenic-acid_100g', 'eicosapentaenoic-acid_100g', 'docosahexaenoic-acid_100g', 'linoleic-acid_100g', 'arachidonic-acid_100g', 'gamma-linolenic-acid_100g', 'dihomo-gamma-linolenic-acid_100g', 'oleic-acid_100g', 'elaidic-acid_100g', 'gondoic-acid_100g', 'mead-acid_100g', 'erucic-acid_100g', 'nervonic-acid_100g', 'trans-fat_100g', 'cholesterol_100g', 'carbohydrates_100g', 'sugars_100g', 'added-sugars_100g', 'sucrose_100g', 'glucose_100g', 'fructose_100g', 'lactose_100g', 'maltose_100g', 'maltodextrins_100g', 'starch_100g', 'polyols_100g', 'erythritol_100g', 'fiber_100g', 'soluble-fiber_100g', 'insoluble-fiber_100g', 'proteins_100g', 'casein_100g', 'serum-proteins_100g', 'nucleotides_100g', 'salt_100g', 'added-salt_100g', 'sodium_100g', 'alcohol_100g', 'vitamin-a_100g', 'beta-carotene_100g', 'vitamin-d_100g', 'vitamin-e_100g', 'vitamin-k_100g', 'vitamin-c_100g', 'vitamin-b1_100g', 'vitamin-b2_100g', 'vitamin-pp_100g', 'vitamin-b6_100g', 'vitamin-b9_100g', 'folates_100g', 'vitamin-b12_100g', 'biotin_100g', 'pantothenic-acid_100g', 'silica_100g', 'bicarbonate_100g', 'potassium_100g', 'chloride_100g', 'calcium_100g', 'phosphorus_100g', 'iron_100g', 'magnesium_100g', 'zinc_100g', 'copper_100g', 'manganese_100g', 'fluoride_100g', 'selenium_100g', 'chromium_100g', 'molybdenum_100g', 'iodine_100g', 'caffeine_100g', 'taurine_100g', 'ph_100g', 'fruits-vegetables-nuts_100g', 'fruits-vegetables-nuts-dried_100g', 'fruits-vegetables-nuts-estimate_100g', 'fruits-vegetables-nuts-estimate-from-ingredients_100g', 'collagen-meat-protein-ratio_100g', 'cocoa_100g', 'chlorophyl_100g', 'carbon-footprint_100g', 'carbon-footprint-from-meat-or-fish_100g', 'nutrition-score-fr_100g', 'nutrition-score-uk_100g', 'glycemic-index_100g', 'water-hardness_100g', 'choline_100g', 'phylloquinone_100g', 'beta-glucan_100g', 'inositol_100g', 'carnitine_100g', 'sulphate_100g', 'nitrate_100g', 'acidity_100g']\n"
     ]
    }
   ],
   "source": [
    "if preprocessing:\n",
    "\n",
    "    csv_file_path = raw_data_dir / \"openfoodfacts_products.csv\"\n",
    "\n",
    "    with open(csv_file_path, \"r\", encoding=\"utf-8\") as f:\n",
    "        reader = csv.reader(f, delimiter=\"\\t\")\n",
    "        print(next(reader))"
   ]
  },
  {
   "cell_type": "markdown",
   "metadata": {},
   "source": [
    "## Columns worth keeping"
   ]
  },
  {
   "cell_type": "code",
   "execution_count": 5,
   "metadata": {},
   "outputs": [],
   "source": [
    "if preprocessing:\n",
    "\n",
    "    columns = ['url', 'product_name', 'abbreviated_product_name', 'generic_name', 'quantity',\n",
    "               'ingredients_text', 'ingredients_tags', 'ingredients_analysis_tags',\n",
    "               'allergens', 'allergens_en', 'traces', 'traces_tags', 'traces_en',\n",
    "               'serving_size', 'serving_quantity', 'no_nutrition_data', 'additives_n',\n",
    "               'additives', 'additives_tags', 'additives_en', 'nutriscore_score',\n",
    "               'nutriscore_grade', 'food_groups', 'food_groups_tags', 'food_groups_en',\n",
    "               'product_quantity', 'main_category', 'main_category_en', 'image_url',\n",
    "               'image_small_url', 'image_ingredients_url', 'image_ingredients_small_url',\n",
    "               'image_nutrition_url', 'image_nutrition_small_url', 'energy-kj_100g',\n",
    "               'energy-kcal_100g', 'energy_100g', 'energy-from-fat_100g', 'fat_100g',\n",
    "               'saturated-fat_100g', 'butyric-acid_100g', 'caproic-acid_100g',\n",
    "               'caprylic-acid_100g', 'capric-acid_100g', 'lauric-acid_100g',\n",
    "               'myristic-acid_100g', 'palmitic-acid_100g', 'stearic-acid_100g',\n",
    "               'arachidic-acid_100g', 'behenic-acid_100g', 'lignoceric-acid_100g',\n",
    "               'cerotic-acid_100g', 'montanic-acid_100g', 'melissic-acid_100g',\n",
    "               'unsaturated-fat_100g', 'monounsaturated-fat_100g', 'omega-9-fat_100g',\n",
    "               'polyunsaturated-fat_100g', 'omega-3-fat_100g', 'omega-6-fat_100g',\n",
    "               'alpha-linolenic-acid_100g', 'eicosapentaenoic-acid_100g',\n",
    "               'docosahexaenoic-acid_100g', 'linoleic-acid_100g', 'arachidonic-acid_100g',\n",
    "               'gamma-linolenic-acid_100g', 'dihomo-gamma-linolenic-acid_100g',\n",
    "               'oleic-acid_100g', 'elaidic-acid_100g', 'gondoic-acid_100g', 'mead-acid_100g',\n",
    "               'erucic-acid_100g', 'nervonic-acid_100g', 'trans-fat_100g',\n",
    "               'cholesterol_100g', 'carbohydrates_100g', 'sugars_100g', 'added-sugars_100g',\n",
    "               'sucrose_100g', 'glucose_100g', 'fructose_100g', 'lactose_100g',\n",
    "               'maltose_100g', 'maltodextrins_100g', 'starch_100g', 'polyols_100g',\n",
    "               'erythritol_100g', 'fiber_100g', 'soluble-fiber_100g', 'insoluble-fiber_100g',\n",
    "               'proteins_100g', 'casein_100g', 'serum-proteins_100g', 'nucleotides_100g',\n",
    "               'salt_100g', 'added-salt_100g', 'sodium_100g', 'alcohol_100g',\n",
    "               'vitamin-a_100g', 'beta-carotene_100g', 'vitamin-d_100g', 'vitamin-e_100g',\n",
    "               'vitamin-k_100g', 'vitamin-c_100g', 'vitamin-b1_100g', 'vitamin-b2_100g',\n",
    "               'vitamin-pp_100g', 'vitamin-b6_100g', 'vitamin-b9_100g', 'folates_100g',\n",
    "               'vitamin-b12_100g', 'biotin_100g', 'pantothenic-acid_100g', 'silica_100g',\n",
    "               'bicarbonate_100g', 'potassium_100g', 'chloride_100g', 'calcium_100g',\n",
    "               'phosphorus_100g', 'iron_100g', 'magnesium_100g', 'zinc_100g', 'copper_100g',\n",
    "               'manganese_100g', 'fluoride_100g', 'selenium_100g', 'chromium_100g',\n",
    "               'molybdenum_100g', 'iodine_100g', 'caffeine_100g', 'taurine_100g', 'ph_100g',\n",
    "               'fruits-vegetables-nuts_100g', 'fruits-vegetables-nuts-dried_100g',\n",
    "               'fruits-vegetables-nuts-estimate_100g',\n",
    "               'fruits-vegetables-nuts-estimate-from-ingredients_100g',\n",
    "               'collagen-meat-protein-ratio_100g', 'cocoa_100g', 'chlorophyl_100g',\n",
    "               'nutrition-score-fr_100g', 'nutrition-score-uk_100g', 'glycemic-index_100g',\n",
    "               'choline_100g', 'phylloquinone_100g', 'beta-glucan_100g', 'inositol_100g',\n",
    "               'carnitine_100g', 'sulphate_100g', 'nitrate_100g', 'acidity_100g']"
   ]
  },
  {
   "cell_type": "markdown",
   "metadata": {},
   "source": [
    "### This reduces the number of columns from 206 to 150, still too many."
   ]
  },
  {
   "cell_type": "code",
   "execution_count": 6,
   "metadata": {},
   "outputs": [
    {
     "name": "stdout",
     "output_type": "stream",
     "text": [
      "Processing chunk 37/37\n",
      "\n",
      "Final DataFrame shape: (9250, 150)\n"
     ]
    }
   ],
   "source": [
    "if preprocessing:\n",
    "\n",
    "    chunk_size = 100_000 # Adjust as needed\n",
    "    frac = 0.315  # Proportion of non-NaN values required to keep a row\n",
    "\n",
    "    chunks = []\n",
    "\n",
    "    total_lines = sum(1 for _ in open(csv_file_path, \"r\", encoding=\"utf-8\"))\n",
    "    total_chunks = math.ceil(total_lines / chunk_size)\n",
    "\n",
    "    for i, chunk in enumerate(pd.read_csv(csv_file_path,\n",
    "                                          sep=\"\\t\", usecols=columns,\n",
    "                                          dtype=str,  # Read all as strings to prevent dtype errors\n",
    "                                          chunksize=chunk_size,\n",
    "                                          on_bad_lines=\"skip\"), start=1):  # Start counting from 1\n",
    "\n",
    "        print(f\"\\rProcessing chunk {i}/{total_chunks}\", end=\"\", flush=True)\n",
    "\n",
    "        # Drop rows with < frac non-NaN values\n",
    "        chunk = chunk.dropna(thresh=int(len(chunk.columns) * frac))\n",
    "\n",
    "        chunks.append(chunk)\n",
    "\n",
    "    df = pd.concat(chunks, ignore_index=True)\n",
    "\n",
    "    print(\"\\n\\nFinal DataFrame shape:\", df.shape)"
   ]
  },
  {
   "cell_type": "markdown",
   "metadata": {},
   "source": [
    "### This reduces our df to the 10,000 most complete rows."
   ]
  },
  {
   "cell_type": "code",
   "execution_count": 7,
   "metadata": {},
   "outputs": [
    {
     "data": {
      "text/html": [
       "<div>\n",
       "<style scoped>\n",
       "    .dataframe tbody tr th:only-of-type {\n",
       "        vertical-align: middle;\n",
       "    }\n",
       "\n",
       "    .dataframe tbody tr th {\n",
       "        vertical-align: top;\n",
       "    }\n",
       "\n",
       "    .dataframe thead th {\n",
       "        text-align: right;\n",
       "    }\n",
       "</style>\n",
       "<table border=\"1\" class=\"dataframe\">\n",
       "  <thead>\n",
       "    <tr style=\"text-align: right;\">\n",
       "      <th></th>\n",
       "      <th>url</th>\n",
       "      <th>product_name</th>\n",
       "      <th>abbreviated_product_name</th>\n",
       "      <th>generic_name</th>\n",
       "      <th>quantity</th>\n",
       "      <th>ingredients_text</th>\n",
       "      <th>ingredients_tags</th>\n",
       "      <th>ingredients_analysis_tags</th>\n",
       "      <th>allergens</th>\n",
       "      <th>allergens_en</th>\n",
       "      <th>...</th>\n",
       "      <th>nutrition-score-uk_100g</th>\n",
       "      <th>glycemic-index_100g</th>\n",
       "      <th>choline_100g</th>\n",
       "      <th>phylloquinone_100g</th>\n",
       "      <th>beta-glucan_100g</th>\n",
       "      <th>inositol_100g</th>\n",
       "      <th>carnitine_100g</th>\n",
       "      <th>sulphate_100g</th>\n",
       "      <th>nitrate_100g</th>\n",
       "      <th>acidity_100g</th>\n",
       "    </tr>\n",
       "  </thead>\n",
       "  <tbody>\n",
       "    <tr>\n",
       "      <th>count</th>\n",
       "      <td>9250</td>\n",
       "      <td>9202</td>\n",
       "      <td>460</td>\n",
       "      <td>2664</td>\n",
       "      <td>5635</td>\n",
       "      <td>9182</td>\n",
       "      <td>9182</td>\n",
       "      <td>9186</td>\n",
       "      <td>5509</td>\n",
       "      <td>0</td>\n",
       "      <td>...</td>\n",
       "      <td>0</td>\n",
       "      <td>0</td>\n",
       "      <td>153</td>\n",
       "      <td>709</td>\n",
       "      <td>5</td>\n",
       "      <td>89</td>\n",
       "      <td>70</td>\n",
       "      <td>2</td>\n",
       "      <td>1</td>\n",
       "      <td>0</td>\n",
       "    </tr>\n",
       "    <tr>\n",
       "      <th>unique</th>\n",
       "      <td>9242</td>\n",
       "      <td>8097</td>\n",
       "      <td>445</td>\n",
       "      <td>2268</td>\n",
       "      <td>1965</td>\n",
       "      <td>8122</td>\n",
       "      <td>7648</td>\n",
       "      <td>34</td>\n",
       "      <td>385</td>\n",
       "      <td>0</td>\n",
       "      <td>...</td>\n",
       "      <td>0</td>\n",
       "      <td>0</td>\n",
       "      <td>86</td>\n",
       "      <td>141</td>\n",
       "      <td>5</td>\n",
       "      <td>53</td>\n",
       "      <td>28</td>\n",
       "      <td>2</td>\n",
       "      <td>1</td>\n",
       "      <td>0</td>\n",
       "    </tr>\n",
       "    <tr>\n",
       "      <th>top</th>\n",
       "      <td>http://world-en.openfoodfacts.org/product/3250...</td>\n",
       "      <td>Cereal</td>\n",
       "      <td>Croissance bio</td>\n",
       "      <td>Matière grasse à tartiner et à cuire allégée (...</td>\n",
       "      <td>500 g</td>\n",
       "      <td>Sugar, corn flour, wheat flour, whole grain oa...</td>\n",
       "      <td>en:semolina,en:cereal,en:wheat,en:durum-wheat-...</td>\n",
       "      <td>en:palm-oil-free,en:vegan-status-unknown,en:ve...</td>\n",
       "      <td>en:gluten</td>\n",
       "      <td>NaN</td>\n",
       "      <td>...</td>\n",
       "      <td>NaN</td>\n",
       "      <td>NaN</td>\n",
       "      <td>0.022</td>\n",
       "      <td>0.0000083</td>\n",
       "      <td>3.6</td>\n",
       "      <td>0.029</td>\n",
       "      <td>0.015</td>\n",
       "      <td>0.00053</td>\n",
       "      <td>0.00031</td>\n",
       "      <td>NaN</td>\n",
       "    </tr>\n",
       "    <tr>\n",
       "      <th>freq</th>\n",
       "      <td>2</td>\n",
       "      <td>112</td>\n",
       "      <td>3</td>\n",
       "      <td>17</td>\n",
       "      <td>151</td>\n",
       "      <td>16</td>\n",
       "      <td>19</td>\n",
       "      <td>2058</td>\n",
       "      <td>990</td>\n",
       "      <td>NaN</td>\n",
       "      <td>...</td>\n",
       "      <td>NaN</td>\n",
       "      <td>NaN</td>\n",
       "      <td>10</td>\n",
       "      <td>73</td>\n",
       "      <td>1</td>\n",
       "      <td>5</td>\n",
       "      <td>16</td>\n",
       "      <td>1</td>\n",
       "      <td>1</td>\n",
       "      <td>NaN</td>\n",
       "    </tr>\n",
       "  </tbody>\n",
       "</table>\n",
       "<p>4 rows × 150 columns</p>\n",
       "</div>"
      ],
      "text/plain": [
       "                                                      url product_name  \\\n",
       "count                                                9250         9202   \n",
       "unique                                               9242         8097   \n",
       "top     http://world-en.openfoodfacts.org/product/3250...       Cereal   \n",
       "freq                                                    2          112   \n",
       "\n",
       "       abbreviated_product_name  \\\n",
       "count                       460   \n",
       "unique                      445   \n",
       "top              Croissance bio   \n",
       "freq                          3   \n",
       "\n",
       "                                             generic_name quantity  \\\n",
       "count                                                2664     5635   \n",
       "unique                                               2268     1965   \n",
       "top     Matière grasse à tartiner et à cuire allégée (...    500 g   \n",
       "freq                                                   17      151   \n",
       "\n",
       "                                         ingredients_text  \\\n",
       "count                                                9182   \n",
       "unique                                               8122   \n",
       "top     Sugar, corn flour, wheat flour, whole grain oa...   \n",
       "freq                                                   16   \n",
       "\n",
       "                                         ingredients_tags  \\\n",
       "count                                                9182   \n",
       "unique                                               7648   \n",
       "top     en:semolina,en:cereal,en:wheat,en:durum-wheat-...   \n",
       "freq                                                   19   \n",
       "\n",
       "                                ingredients_analysis_tags  allergens  \\\n",
       "count                                                9186       5509   \n",
       "unique                                                 34        385   \n",
       "top     en:palm-oil-free,en:vegan-status-unknown,en:ve...  en:gluten   \n",
       "freq                                                 2058        990   \n",
       "\n",
       "       allergens_en  ... nutrition-score-uk_100g glycemic-index_100g  \\\n",
       "count             0  ...                       0                   0   \n",
       "unique            0  ...                       0                   0   \n",
       "top             NaN  ...                     NaN                 NaN   \n",
       "freq            NaN  ...                     NaN                 NaN   \n",
       "\n",
       "       choline_100g phylloquinone_100g beta-glucan_100g inositol_100g  \\\n",
       "count           153                709                5            89   \n",
       "unique           86                141                5            53   \n",
       "top           0.022          0.0000083              3.6         0.029   \n",
       "freq             10                 73                1             5   \n",
       "\n",
       "       carnitine_100g sulphate_100g nitrate_100g acidity_100g  \n",
       "count              70             2            1            0  \n",
       "unique             28             2            1            0  \n",
       "top             0.015       0.00053      0.00031          NaN  \n",
       "freq               16             1            1          NaN  \n",
       "\n",
       "[4 rows x 150 columns]"
      ]
     },
     "metadata": {},
     "output_type": "display_data"
    }
   ],
   "source": [
    "if preprocessing:\n",
    "\n",
    "    display(df.describe())"
   ]
  },
  {
   "cell_type": "code",
   "execution_count": null,
   "metadata": {},
   "outputs": [],
   "source": []
  }
 ],
 "metadata": {
  "kernelspec": {
   "display_name": "smartfoodscan",
   "language": "python",
   "name": "python3"
  },
  "language_info": {
   "codemirror_mode": {
    "name": "ipython",
    "version": 3
   },
   "file_extension": ".py",
   "mimetype": "text/x-python",
   "name": "python",
   "nbconvert_exporter": "python",
   "pygments_lexer": "ipython3",
   "version": "3.10.6"
  }
 },
 "nbformat": 4,
 "nbformat_minor": 2
}
